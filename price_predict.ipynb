{
 "cells": [
  {
   "cell_type": "code",
   "execution_count": 106,
   "metadata": {
    "collapsed": false
   },
   "outputs": [],
   "source": [
    "import numpy as np\n",
    "import pandas as pd\n",
    "import matplotlib.pyplot as plt\n",
    "\n",
    "from sklearn import preprocessing\n",
    "from sklearn.cross_validation import train_test_split\n",
    "from sklearn import linear_model\n",
    "from sklearn import metrics\n",
    "import xgboost as xgb\n",
    "\n",
    "from scipy.stats import pearsonr\n",
    "\n",
    "%matplotlib inline\n",
    "pd.set_option('display.max_columns', 100)"
   ]
  },
  {
   "cell_type": "code",
   "execution_count": 98,
   "metadata": {
    "collapsed": false
   },
   "outputs": [],
   "source": [
    "pair_ca = pd.read_csv('../data/pair_ca.csv')\n",
    "univ_ca = pd.read_csv('../data/university_ca.csv')"
   ]
  },
  {
   "cell_type": "code",
   "execution_count": 99,
   "metadata": {
    "collapsed": false
   },
   "outputs": [],
   "source": [
    "pair_ca = pair_ca[pair_ca['distance'] < 10]"
   ]
  },
  {
   "cell_type": "code",
   "execution_count": 100,
   "metadata": {
    "collapsed": false
   },
   "outputs": [
    {
     "name": "stdout",
     "output_type": "stream",
     "text": [
      "<class 'pandas.core.frame.DataFrame'>\n",
      "Int64Index: 8969 entries, 0 to 16156\n",
      "Data columns (total 13 columns):\n",
      "UniversityName    8969 non-null object\n",
      "saleprice         8969 non-null int64\n",
      "yearbuilt         8969 non-null object\n",
      "numbed            8969 non-null int64\n",
      "num_bath_full     8969 non-null int64\n",
      "num_bath_part     8969 non-null int64\n",
      "garage            8969 non-null object\n",
      "size              8969 non-null int64\n",
      "pool              8969 non-null int64\n",
      "style             8848 non-null object\n",
      "gatedCommunity    8969 non-null int64\n",
      "renovation        8969 non-null int64\n",
      "distance          8969 non-null float64\n",
      "dtypes: float64(1), int64(8), object(4)\n",
      "memory usage: 981.0+ KB\n",
      "None\n"
     ]
    }
   ],
   "source": [
    "features = ['UniversityName', 'saleprice', 'yearbuilt', 'numbed', 'num_bath_full', 'num_bath_part', 'garage', \n",
    "            'size', 'pool', 'style', 'gatedCommunity', 'renovation', 'distance']\n",
    "pair_ca = pair_ca[features]\n",
    "\n",
    "print pair_ca.info()"
   ]
  },
  {
   "cell_type": "code",
   "execution_count": 101,
   "metadata": {
    "collapsed": false
   },
   "outputs": [
    {
     "name": "stdout",
     "output_type": "stream",
     "text": [
      "<class 'pandas.core.frame.DataFrame'>\n",
      "Int64Index: 4322 entries, 2 to 16156\n",
      "Data columns (total 13 columns):\n",
      "UniversityName    4322 non-null object\n",
      "saleprice         4322 non-null int64\n",
      "yearbuilt         4322 non-null float64\n",
      "numbed            4322 non-null int64\n",
      "garage            4322 non-null int64\n",
      "size              4322 non-null int64\n",
      "pool              4322 non-null int64\n",
      "style             4322 non-null int64\n",
      "gatedCommunity    4322 non-null int64\n",
      "renovation        4322 non-null int64\n",
      "distance          4322 non-null float64\n",
      "numbath           4322 non-null float64\n",
      "distance2         4322 non-null float64\n",
      "dtypes: float64(4), int64(8), object(1)\n",
      "memory usage: 472.7+ KB\n",
      "None\n"
     ]
    }
   ],
   "source": [
    "# convert data type, clean up missing values\n",
    "pair_ca = pair_ca[pair_ca['size'] > 0]\n",
    "pair_ca = pair_ca[pair_ca['saleprice'] > 0]\n",
    "\n",
    "pair_ca['yearbuilt'] = pd.to_numeric(pair_ca['yearbuilt'], downcast='integer', errors='coerce')\n",
    "pair_ca['numbed'] = pair_ca['numbed'].replace({-1:0})\n",
    "pair_ca['num_bath_full'] = pair_ca['num_bath_full'].replace({-1:0})\n",
    "pair_ca['num_bath_part'] = pair_ca['num_bath_part'].replace({-1:0, 1:0.5})\n",
    "pair_ca['garage'] = pair_ca['garage'].replace({'\\\\N':0, '1':1})\n",
    "pair_ca['numbath'] = pair_ca['num_bath_full'] + pair_ca['num_bath_part']\n",
    "pair_ca.drop(['num_bath_full', 'num_bath_part'], axis = 1, inplace = True)\n",
    "\n",
    "# label encoding style\n",
    "le = preprocessing.LabelEncoder()\n",
    "pair_ca['style'] = le.fit_transform(pair_ca['style'])\n",
    "\n",
    "pair_ca['distance2'] = np.log(pair_ca['distance'])\n",
    "pair_ca.dropna(inplace=True)\n",
    "\n",
    "print pair_ca.info()"
   ]
  },
  {
   "cell_type": "code",
   "execution_count": 102,
   "metadata": {
    "collapsed": false
   },
   "outputs": [
    {
     "name": "stdout",
     "output_type": "stream",
     "text": [
      "(0.49863561173915216, 1.663697511190432e-270)\n"
     ]
    }
   ],
   "source": [
    "print pearsonr(pair_ca['numbed'], pair_ca['numbath'])"
   ]
  },
  {
   "cell_type": "code",
   "execution_count": 103,
   "metadata": {
    "collapsed": false
   },
   "outputs": [
    {
     "name": "stdout",
     "output_type": "stream",
     "text": [
      "UniversityName\n",
      "California State University   - Sacramento     137\n",
      "Soka University of America                     125\n",
      "William Jessup University                      119\n",
      "California State University   - Bakersfield    115\n",
      "California State University   - San Marcos     109\n",
      "dtype: int64\n"
     ]
    },
    {
     "name": "stderr",
     "output_type": "stream",
     "text": [
      "/usr/local/lib/python2.7/dist-packages/ipykernel/__main__.py:13: SettingWithCopyWarning: \n",
      "A value is trying to be set on a copy of a slice from a DataFrame\n",
      "\n",
      "See the caveats in the documentation: http://pandas.pydata.org/pandas-docs/stable/indexing.html#indexing-view-versus-copy\n"
     ]
    }
   ],
   "source": [
    "data = []\n",
    "\n",
    "# find the top 5 university groups with most homes nearby\n",
    "ca_grouped = pair_ca.groupby('UniversityName')\n",
    "home_count = ca_grouped.size()\n",
    "home_count.sort_values(inplace=True,ascending=False)\n",
    "home_count_top5 = home_count[:5]\n",
    "univ_names = [name for name in home_count_top5.index]\n",
    "print home_count_top5\n",
    "\n",
    "for univ_name in univ_names:\n",
    "    one_univ = ca_grouped.get_group(univ_name)\n",
    "    one_univ.drop('UniversityName', axis = 1, inplace=True)\n",
    "    data.append(one_univ)"
   ]
  },
  {
   "cell_type": "code",
   "execution_count": 104,
   "metadata": {
    "collapsed": false
   },
   "outputs": [
    {
     "name": "stdout",
     "output_type": "stream",
     "text": [
      "       saleprice  yearbuilt  numbed  garage  size  pool  style  \\\n",
      "13773     799900     1987.0       3       1  2159     0      8   \n",
      "13784     309900     2012.0       4       1  1654     0      8   \n",
      "13792     499000     2008.0       5       1  3314     1      8   \n",
      "13813     329950     1989.0       4       1  2235     0      8   \n",
      "13823     169953     1990.0       4       1  1848     0      8   \n",
      "\n",
      "       gatedCommunity  renovation  distance  numbath  distance2  \n",
      "13773               1           0  8.410863      3.0   2.129524  \n",
      "13784               0           0  7.973355      2.0   2.076105  \n",
      "13792               0           0  8.089785      4.0   2.090602  \n",
      "13813               0           0  7.936815      3.0   2.071512  \n",
      "13823               0           0  6.653039      2.5   1.895074  \n"
     ]
    }
   ],
   "source": [
    "print data[0].head()"
   ]
  },
  {
   "cell_type": "code",
   "execution_count": 105,
   "metadata": {
    "collapsed": false
   },
   "outputs": [
    {
     "name": "stdout",
     "output_type": "stream",
     "text": [
      "California State University   - Sacramento\n",
      "[[-0.17938422 -0.41158743 -0.04017058  0.90263667 -0.00133416  0.13179607\n",
      "   0.07100701  0.10437577 -0.2602238   0.25284964  0.10703264]]\n",
      "0.518238343804\n",
      "Soka University of America\n",
      "[[-0.13314548 -0.15450216 -0.02986479  0.67410808 -0.00434575 -0.00233445\n",
      "   0.02725416  0.02040986 -0.01037731  0.3244468  -0.05648996]]\n",
      "1.04002727302\n",
      "William Jessup University\n",
      "[[-0.14144154 -0.26398609  0.03149505  0.87438443  0.06964298  0.05525701\n",
      "   0.12628503 -0.0176815  -0.05230868  0.31560617  0.0255975 ]]\n",
      "0.65045807652\n",
      "California State University   - Bakersfield\n",
      "[[ 0.00550623 -0.17234283  0.04271527  0.9709767  -0.01150665  0.14183815\n",
      "   0.13078796  0.08246322 -0.14741859  0.1074978   0.02986637]]\n",
      "0.920257063232\n",
      "California State University   - San Marcos\n",
      "[[-0.0577041  -0.1144288  -0.07968521  1.13945373  0.04904969  0.05163776\n",
      "  -0.03635278 -0.04955248  0.10878801 -0.1356978  -0.05932802]]\n",
      "0.405328428934\n"
     ]
    }
   ],
   "source": [
    "# linear regression\n",
    "model = linear_model.LinearRegression()\n",
    "\n",
    "for i, df in enumerate(data):\n",
    "    df = (df - df.mean()) / df.std()\n",
    "    train, test = train_test_split(df, test_size=0.2, random_state=111)\n",
    "    trainY, trainX = train.iloc[:,0], train.iloc[:,1:]\n",
    "    testY, testX = test.iloc[:,0], test.iloc[:,1:]\n",
    "    trainY = np.reshape(trainY, (-1,1))\n",
    "    testY = np.reshape(testY, (-1,1))\n",
    "    \n",
    "    model.fit(trainX, trainY)\n",
    "    print univ_names[i]\n",
    "    print model.coef_\n",
    "    print np.sqrt(metrics.mean_squared_error(testY, model.predict(testX)))"
   ]
  },
  {
   "cell_type": "code",
   "execution_count": 109,
   "metadata": {
    "collapsed": false
   },
   "outputs": [
    {
     "name": "stdout",
     "output_type": "stream",
     "text": [
      "Train a XGBoost model\n",
      "[0]\ttrain-rmse:454228\teval-rmse:466696\n",
      "Multiple eval metrics have been passed: 'eval-rmse' will be used for early stopping.\n",
      "\n",
      "Will train until eval-rmse hasn't improved in 100 rounds.\n",
      "[1]\ttrain-rmse:437716\teval-rmse:448887\n",
      "[2]\ttrain-rmse:421594\teval-rmse:432219\n",
      "[3]\ttrain-rmse:408678\teval-rmse:417965\n",
      "[4]\ttrain-rmse:396338\teval-rmse:405467\n",
      "[5]\ttrain-rmse:383683\teval-rmse:392416\n",
      "[6]\ttrain-rmse:372829\teval-rmse:381746\n",
      "[7]\ttrain-rmse:360161\teval-rmse:363347\n",
      "[8]\ttrain-rmse:347534\teval-rmse:347902\n",
      "[9]\ttrain-rmse:336692\teval-rmse:335490\n",
      "[10]\ttrain-rmse:322471\teval-rmse:317643\n",
      "[11]\ttrain-rmse:312576\teval-rmse:306852\n",
      "[12]\ttrain-rmse:300816\teval-rmse:290143\n",
      "[13]\ttrain-rmse:291690\teval-rmse:278891\n",
      "[14]\ttrain-rmse:284658\teval-rmse:270259\n",
      "[15]\ttrain-rmse:278681\teval-rmse:262531\n",
      "[16]\ttrain-rmse:270776\teval-rmse:254370\n",
      "[17]\ttrain-rmse:263067\teval-rmse:246576\n",
      "[18]\ttrain-rmse:258315\teval-rmse:241310\n",
      "[19]\ttrain-rmse:251871\teval-rmse:233132\n",
      "[20]\ttrain-rmse:247592\teval-rmse:230700\n",
      "[21]\ttrain-rmse:241366\teval-rmse:222268\n",
      "[22]\ttrain-rmse:235184\teval-rmse:216806\n",
      "[23]\ttrain-rmse:228530\teval-rmse:211502\n",
      "[24]\ttrain-rmse:222324\teval-rmse:206995\n",
      "[25]\ttrain-rmse:215770\teval-rmse:202678\n",
      "[26]\ttrain-rmse:212196\teval-rmse:199141\n",
      "[27]\ttrain-rmse:206603\teval-rmse:194156\n",
      "[28]\ttrain-rmse:201081\teval-rmse:189836\n",
      "[29]\ttrain-rmse:197049\teval-rmse:185832\n",
      "[30]\ttrain-rmse:192336\teval-rmse:183300\n",
      "[31]\ttrain-rmse:187545\teval-rmse:180250\n",
      "[32]\ttrain-rmse:183460\teval-rmse:178330\n",
      "[33]\ttrain-rmse:178380\teval-rmse:176893\n",
      "[34]\ttrain-rmse:173805\teval-rmse:174163\n",
      "[35]\ttrain-rmse:169724\teval-rmse:171661\n",
      "[36]\ttrain-rmse:166669\teval-rmse:169182\n",
      "[37]\ttrain-rmse:164736\teval-rmse:167916\n",
      "[38]\ttrain-rmse:161553\teval-rmse:166472\n",
      "[39]\ttrain-rmse:157165\teval-rmse:161195\n",
      "[40]\ttrain-rmse:153268\teval-rmse:160191\n",
      "[41]\ttrain-rmse:149929\teval-rmse:159112\n",
      "[42]\ttrain-rmse:146418\teval-rmse:157980\n",
      "[43]\ttrain-rmse:143546\teval-rmse:157154\n",
      "[44]\ttrain-rmse:139818\teval-rmse:153381\n",
      "[45]\ttrain-rmse:136781\teval-rmse:153270\n",
      "[46]\ttrain-rmse:133523\teval-rmse:151279\n",
      "[47]\ttrain-rmse:131975\teval-rmse:149918\n",
      "[48]\ttrain-rmse:130611\teval-rmse:149345\n",
      "[49]\ttrain-rmse:129092\teval-rmse:148808\n",
      "[50]\ttrain-rmse:126401\teval-rmse:147146\n",
      "[51]\ttrain-rmse:123926\teval-rmse:146392\n",
      "[52]\ttrain-rmse:121629\teval-rmse:145750\n",
      "[53]\ttrain-rmse:120893\teval-rmse:145175\n",
      "[54]\ttrain-rmse:119433\teval-rmse:144860\n",
      "[55]\ttrain-rmse:116601\teval-rmse:141319\n",
      "[56]\ttrain-rmse:115130\teval-rmse:141032\n",
      "[57]\ttrain-rmse:112788\teval-rmse:140958\n",
      "[58]\ttrain-rmse:110462\teval-rmse:140426\n",
      "[59]\ttrain-rmse:108384\teval-rmse:140139\n",
      "[60]\ttrain-rmse:106412\teval-rmse:139991\n",
      "[61]\ttrain-rmse:104325\teval-rmse:139146\n",
      "[62]\ttrain-rmse:102214\teval-rmse:138942\n",
      "[63]\ttrain-rmse:101267\teval-rmse:137545\n",
      "[64]\ttrain-rmse:99511.8\teval-rmse:136954\n",
      "[65]\ttrain-rmse:98620.6\teval-rmse:136879\n",
      "[66]\ttrain-rmse:96680.1\teval-rmse:135427\n",
      "[67]\ttrain-rmse:94774.9\teval-rmse:135397\n",
      "[68]\ttrain-rmse:93032.5\teval-rmse:134901\n",
      "[69]\ttrain-rmse:91479.5\teval-rmse:134501\n",
      "[70]\ttrain-rmse:90615.8\teval-rmse:133987\n",
      "[71]\ttrain-rmse:88954.7\teval-rmse:134095\n",
      "[72]\ttrain-rmse:88189.9\teval-rmse:133830\n",
      "[73]\ttrain-rmse:86682.1\teval-rmse:133448\n",
      "[74]\ttrain-rmse:84824.5\teval-rmse:133348\n",
      "[75]\ttrain-rmse:83561\teval-rmse:133204\n",
      "[76]\ttrain-rmse:82098.6\teval-rmse:133390\n",
      "[77]\ttrain-rmse:80647.4\teval-rmse:133427\n",
      "[78]\ttrain-rmse:80000.4\teval-rmse:133253\n",
      "[79]\ttrain-rmse:78451.8\teval-rmse:133272\n",
      "[80]\ttrain-rmse:77789.4\teval-rmse:133194\n",
      "[81]\ttrain-rmse:76418.8\teval-rmse:132607\n",
      "[82]\ttrain-rmse:75180.7\teval-rmse:132700\n",
      "[83]\ttrain-rmse:73954.2\teval-rmse:132479\n",
      "[84]\ttrain-rmse:72640.4\teval-rmse:132380\n",
      "[85]\ttrain-rmse:71197.9\teval-rmse:132318\n",
      "[86]\ttrain-rmse:69947.1\teval-rmse:131901\n",
      "[87]\ttrain-rmse:68721\teval-rmse:131819\n",
      "[88]\ttrain-rmse:67658\teval-rmse:131704\n",
      "[89]\ttrain-rmse:67096.7\teval-rmse:131930\n",
      "[90]\ttrain-rmse:66023.6\teval-rmse:132180\n",
      "[91]\ttrain-rmse:64968.6\teval-rmse:132328\n",
      "[92]\ttrain-rmse:63988.3\teval-rmse:132320\n",
      "[93]\ttrain-rmse:62825.2\teval-rmse:132430\n",
      "[94]\ttrain-rmse:61846.3\teval-rmse:132525\n",
      "[95]\ttrain-rmse:61421.6\teval-rmse:132706\n",
      "[96]\ttrain-rmse:60712.2\teval-rmse:132572\n",
      "[97]\ttrain-rmse:60329.3\teval-rmse:132862\n",
      "[98]\ttrain-rmse:59576\teval-rmse:132102\n",
      "[99]\ttrain-rmse:58781.5\teval-rmse:132494\n",
      "Validating\n",
      "132494.403235\n"
     ]
    }
   ],
   "source": [
    "# xgboost\n",
    "params = {\"objective\": \"reg:linear\",\n",
    "          \"booster\" : \"gbtree\",\n",
    "          \"eta\": 0.05,\n",
    "          \"max_depth\": 5,\n",
    "          \"subsample\": 0.7,\n",
    "          \"colsample_bytree\": 0.7,\n",
    "          \"silent\": 1,\n",
    "          \"seed\": 1301,\n",
    "          \"nthread\" : 4\n",
    "          }\n",
    "num_boost_round = 100\n",
    "\n",
    "print(\"Train a XGBoost model\")\n",
    "d = data[0]\n",
    "X_train, X_valid, y_train, y_valid = train_test_split(d.iloc[:,1:], d.iloc[:,0], test_size=0.2, random_state=111)\n",
    "\n",
    "# y_train = np.log1p(X_train.SalePrice)\n",
    "# y_valid = np.log1p(X_valid.SalePrice)\n",
    "# dtrain = xgb.DMatrix(X_train[features], y_train)\n",
    "# dvalid = xgb.DMatrix(X_valid[features], y_valid)\n",
    "\n",
    "dtrain = xgb.DMatrix(X_train, y_train)\n",
    "dvalid = xgb.DMatrix(X_valid, y_valid)\n",
    "\n",
    "watchlist = [(dtrain, 'train'), (dvalid, 'eval')]\n",
    "# gbm = xgb.train(params, dtrain, num_boost_round, evals=watchlist, \\\n",
    "#   early_stopping_rounds=100, feval=rmspe_xg, verbose_eval=True)\n",
    "gbm = xgb.train(params, dtrain, num_boost_round, evals=watchlist, early_stopping_rounds=100, verbose_eval=True)\n",
    "\n",
    "print(\"Validating\")\n",
    "yhat = gbm.predict(xgb.DMatrix(X_valid))\n",
    "print np.sqrt(metrics.mean_squared_error(y_valid, yhat))"
   ]
  },
  {
   "cell_type": "code",
   "execution_count": 112,
   "metadata": {
    "collapsed": false
   },
   "outputs": [
    {
     "name": "stdout",
     "output_type": "stream",
     "text": [
      "{'distance2': 93, 'distance': 202, 'style': 43, 'gatedCommunity': 20, 'garage': 27, 'yearbuilt': 270, 'numbed': 121, 'numbath': 67, 'renovation': 29, 'pool': 25, 'size': 325}\n"
     ]
    }
   ],
   "source": [
    "print gbm.get_fscore()"
   ]
  },
  {
   "cell_type": "code",
   "execution_count": null,
   "metadata": {
    "collapsed": true
   },
   "outputs": [],
   "source": []
  }
 ],
 "metadata": {
  "kernelspec": {
   "display_name": "Python 2",
   "language": "python",
   "name": "python2"
  },
  "language_info": {
   "codemirror_mode": {
    "name": "ipython",
    "version": 2
   },
   "file_extension": ".py",
   "mimetype": "text/x-python",
   "name": "python",
   "nbconvert_exporter": "python",
   "pygments_lexer": "ipython2",
   "version": "2.7.12"
  }
 },
 "nbformat": 4,
 "nbformat_minor": 0
}
