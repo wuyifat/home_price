{
 "cells": [
  {
   "cell_type": "code",
   "execution_count": 106,
   "metadata": {
    "collapsed": false
   },
   "outputs": [],
   "source": [
    "import numpy as np\n",
    "import pandas as pd\n",
    "import matplotlib.pyplot as plt\n",
    "\n",
    "from sklearn import preprocessing\n",
    "from sklearn.cross_validation import train_test_split\n",
    "from sklearn import linear_model\n",
    "from sklearn import metrics\n",
    "import xgboost as xgb\n",
    "\n",
    "from scipy.stats import pearsonr\n",
    "\n",
    "%matplotlib inline\n",
    "pd.set_option('display.max_columns', 100)"
   ]
  },
  {
   "cell_type": "code",
   "execution_count": 98,
   "metadata": {
    "collapsed": false
   },
   "outputs": [],
   "source": [
    "pair_ca = pd.read_csv('../data/pair_ca.csv')\n",
    "univ_ca = pd.read_csv('../data/university_ca.csv')"
   ]
  },
  {
   "cell_type": "code",
   "execution_count": 99,
   "metadata": {
    "collapsed": false
   },
   "outputs": [],
   "source": [
    "pair_ca = pair_ca[pair_ca['distance'] < 10]"
   ]
  },
  {
   "cell_type": "code",
   "execution_count": 100,
   "metadata": {
    "collapsed": false
   },
   "outputs": [
    {
     "name": "stdout",
     "output_type": "stream",
     "text": [
      "<class 'pandas.core.frame.DataFrame'>\n",
      "Int64Index: 8969 entries, 0 to 16156\n",
      "Data columns (total 13 columns):\n",
      "UniversityName    8969 non-null object\n",
      "saleprice         8969 non-null int64\n",
      "yearbuilt         8969 non-null object\n",
      "numbed            8969 non-null int64\n",
      "num_bath_full     8969 non-null int64\n",
      "num_bath_part     8969 non-null int64\n",
      "garage            8969 non-null object\n",
      "size              8969 non-null int64\n",
      "pool              8969 non-null int64\n",
      "style             8848 non-null object\n",
      "gatedCommunity    8969 non-null int64\n",
      "renovation        8969 non-null int64\n",
      "distance          8969 non-null float64\n",
      "dtypes: float64(1), int64(8), object(4)\n",
      "memory usage: 981.0+ KB\n",
      "None\n"
     ]
    }
   ],
   "source": [
    "features = ['UniversityName', 'saleprice', 'yearbuilt', 'numbed', 'num_bath_full', 'num_bath_part', 'garage', \n",
    "            'size', 'pool', 'style', 'gatedCommunity', 'renovation', 'distance']\n",
    "pair_ca = pair_ca[features]\n",
    "\n",
    "print pair_ca.info()"
   ]
  },
  {
   "cell_type": "code",
   "execution_count": 101,
   "metadata": {
    "collapsed": false
   },
   "outputs": [
    {
     "name": "stdout",
     "output_type": "stream",
     "text": [
      "<class 'pandas.core.frame.DataFrame'>\n",
      "Int64Index: 4322 entries, 2 to 16156\n",
      "Data columns (total 13 columns):\n",
      "UniversityName    4322 non-null object\n",
      "saleprice         4322 non-null int64\n",
      "yearbuilt         4322 non-null float64\n",
      "numbed            4322 non-null int64\n",
      "garage            4322 non-null int64\n",
      "size              4322 non-null int64\n",
      "pool              4322 non-null int64\n",
      "style             4322 non-null int64\n",
      "gatedCommunity    4322 non-null int64\n",
      "renovation        4322 non-null int64\n",
      "distance          4322 non-null float64\n",
      "numbath           4322 non-null float64\n",
      "distance2         4322 non-null float64\n",
      "dtypes: float64(4), int64(8), object(1)\n",
      "memory usage: 472.7+ KB\n",
      "None\n"
     ]
    }
   ],
   "source": [
    "# convert data type, clean up missing values\n",
    "pair_ca = pair_ca[pair_ca['size'] > 0]\n",
    "pair_ca = pair_ca[pair_ca['saleprice'] > 0]\n",
    "\n",
    "pair_ca['yearbuilt'] = pd.to_numeric(pair_ca['yearbuilt'], downcast='integer', errors='coerce')\n",
    "pair_ca['numbed'] = pair_ca['numbed'].replace({-1:0})\n",
    "pair_ca['num_bath_full'] = pair_ca['num_bath_full'].replace({-1:0})\n",
    "pair_ca['num_bath_part'] = pair_ca['num_bath_part'].replace({-1:0, 1:0.5})\n",
    "pair_ca['garage'] = pair_ca['garage'].replace({'\\\\N':0, '1':1})\n",
    "pair_ca['numbath'] = pair_ca['num_bath_full'] + pair_ca['num_bath_part']\n",
    "pair_ca.drop(['num_bath_full', 'num_bath_part'], axis = 1, inplace = True)\n",
    "\n",
    "# label encoding style\n",
    "le = preprocessing.LabelEncoder()\n",
    "pair_ca['style'] = le.fit_transform(pair_ca['style'])\n",
    "\n",
    "pair_ca['distance2'] = np.log(pair_ca['distance'])\n",
    "pair_ca.dropna(inplace=True)\n",
    "\n",
    "print pair_ca.info()"
   ]
  },
  {
   "cell_type": "code",
   "execution_count": 102,
   "metadata": {
    "collapsed": false
   },
   "outputs": [
    {
     "name": "stdout",
     "output_type": "stream",
     "text": [
      "(0.49863561173915216, 1.663697511190432e-270)\n"
     ]
    }
   ],
   "source": [
    "print pearsonr(pair_ca['numbed'], pair_ca['numbath'])"
   ]
  },
  {
   "cell_type": "code",
   "execution_count": 103,
   "metadata": {
    "collapsed": false
   },
   "outputs": [
    {
     "name": "stdout",
     "output_type": "stream",
     "text": [
      "UniversityName\n",
      "California State University   - Sacramento     137\n",
      "Soka University of America                     125\n",
      "William Jessup University                      119\n",
      "California State University   - Bakersfield    115\n",
      "California State University   - San Marcos     109\n",
      "dtype: int64\n"
     ]
    },
    {
     "name": "stderr",
     "output_type": "stream",
     "text": [
      "/usr/local/lib/python2.7/dist-packages/ipykernel/__main__.py:13: SettingWithCopyWarning: \n",
      "A value is trying to be set on a copy of a slice from a DataFrame\n",
      "\n",
      "See the caveats in the documentation: http://pandas.pydata.org/pandas-docs/stable/indexing.html#indexing-view-versus-copy\n"
     ]
    }
   ],
   "source": [
    "data = []\n",
    "\n",
    "# find the top 5 university groups with most homes nearby\n",
    "ca_grouped = pair_ca.groupby('UniversityName')\n",
    "home_count = ca_grouped.size()\n",
    "home_count.sort_values(inplace=True,ascending=False)\n",
    "home_count_top5 = home_count[:5]\n",
    "univ_names = [name for name in home_count_top5.index]\n",
    "print home_count_top5\n",
    "\n",
    "for univ_name in univ_names:\n",
    "    one_univ = ca_grouped.get_group(univ_name)\n",
    "    one_univ.drop('UniversityName', axis = 1, inplace=True)\n",
    "    data.append(one_univ)"
   ]
  },
  {
   "cell_type": "code",
   "execution_count": 104,
   "metadata": {
    "collapsed": false
   },
   "outputs": [
    {
     "name": "stdout",
     "output_type": "stream",
     "text": [
      "       saleprice  yearbuilt  numbed  garage  size  pool  style  \\\n",
      "13773     799900     1987.0       3       1  2159     0      8   \n",
      "13784     309900     2012.0       4       1  1654     0      8   \n",
      "13792     499000     2008.0       5       1  3314     1      8   \n",
      "13813     329950     1989.0       4       1  2235     0      8   \n",
      "13823     169953     1990.0       4       1  1848     0      8   \n",
      "\n",
      "       gatedCommunity  renovation  distance  numbath  distance2  \n",
      "13773               1           0  8.410863      3.0   2.129524  \n",
      "13784               0           0  7.973355      2.0   2.076105  \n",
      "13792               0           0  8.089785      4.0   2.090602  \n",
      "13813               0           0  7.936815      3.0   2.071512  \n",
      "13823               0           0  6.653039      2.5   1.895074  \n"
     ]
    }
   ],
   "source": [
    "print data[0].head()"
   ]
  },
  {
   "cell_type": "code",
   "execution_count": 105,
   "metadata": {
    "collapsed": false
   },
   "outputs": [
    {
     "name": "stdout",
     "output_type": "stream",
     "text": [
      "California State University   - Sacramento\n",
      "[[-0.17938422 -0.41158743 -0.04017058  0.90263667 -0.00133416  0.13179607\n",
      "   0.07100701  0.10437577 -0.2602238   0.25284964  0.10703264]]\n",
      "0.518238343804\n",
      "Soka University of America\n",
      "[[-0.13314548 -0.15450216 -0.02986479  0.67410808 -0.00434575 -0.00233445\n",
      "   0.02725416  0.02040986 -0.01037731  0.3244468  -0.05648996]]\n",
      "1.04002727302\n",
      "William Jessup University\n",
      "[[-0.14144154 -0.26398609  0.03149505  0.87438443  0.06964298  0.05525701\n",
      "   0.12628503 -0.0176815  -0.05230868  0.31560617  0.0255975 ]]\n",
      "0.65045807652\n",
      "California State University   - Bakersfield\n",
      "[[ 0.00550623 -0.17234283  0.04271527  0.9709767  -0.01150665  0.14183815\n",
      "   0.13078796  0.08246322 -0.14741859  0.1074978   0.02986637]]\n",
      "0.920257063232\n",
      "California State University   - San Marcos\n",
      "[[-0.0577041  -0.1144288  -0.07968521  1.13945373  0.04904969  0.05163776\n",
      "  -0.03635278 -0.04955248  0.10878801 -0.1356978  -0.05932802]]\n",
      "0.405328428934\n"
     ]
    }
   ],
   "source": [
    "# linear regression\n",
    "model = linear_model.LinearRegression()\n",
    "\n",
    "for i, df in enumerate(data):\n",
    "    df = (df - df.mean()) / df.std()\n",
    "    train, test = train_test_split(df, test_size=0.2, random_state=111)\n",
    "    trainY, trainX = train.iloc[:,0], train.iloc[:,1:]\n",
    "    testY, testX = test.iloc[:,0], test.iloc[:,1:]\n",
    "    trainY = np.reshape(trainY, (-1,1))\n",
    "    testY = np.reshape(testY, (-1,1))\n",
    "    \n",
    "    model.fit(trainX, trainY)\n",
    "    print univ_names[i]\n",
    "    print model.coef_\n",
    "    print np.sqrt(metrics.mean_squared_error(testY, model.predict(testX)))"
   ]
  },
  {
   "cell_type": "code",
   "execution_count": 125,
   "metadata": {
    "collapsed": false
   },
   "outputs": [
    {
     "name": "stdout",
     "output_type": "stream",
     "text": [
      "Train a XGBoost model\n",
      "Validating\n",
      "132494.403235\n",
      "[('size', 325), ('yearbuilt', 270), ('distance', 202), ('numbed', 121), ('distance2', 93), ('numbath', 67), ('style', 43), ('renovation', 29), ('garage', 27), ('pool', 25), ('gatedCommunity', 20)]\n",
      "Train a XGBoost model\n",
      "Validating\n",
      "975024.120858\n",
      "[('yearbuilt', 272), ('size', 260), ('distance', 170), ('numbath', 151), ('numbed', 102), ('distance2', 83), ('garage', 34), ('gatedCommunity', 30), ('style', 23), ('pool', 23), ('renovation', 10)]\n",
      "Train a XGBoost model\n",
      "Validating\n",
      "158295.84171\n",
      "[('size', 303), ('distance', 284), ('yearbuilt', 197), ('numbed', 113), ('numbath', 83), ('distance2', 70), ('style', 36), ('pool', 33), ('gatedCommunity', 25), ('renovation', 21), ('garage', 12)]\n",
      "Train a XGBoost model\n",
      "Validating\n",
      "145626.841611\n",
      "[('size', 312), ('yearbuilt', 238), ('distance', 215), ('numbath', 76), ('numbed', 75), ('distance2', 54), ('renovation', 35), ('garage', 29), ('style', 28), ('pool', 26), ('gatedCommunity', 13)]\n",
      "Train a XGBoost model\n",
      "Validating\n",
      "455370.559076\n",
      "[('size', 235), ('yearbuilt', 201), ('distance', 163), ('numbed', 108), ('numbath', 100), ('garage', 53), ('distance2', 45), ('style', 39), ('pool', 30), ('renovation', 23), ('gatedCommunity', 20)]\n"
     ]
    }
   ],
   "source": [
    "# xgboost\n",
    "params = {\"objective\": \"reg:linear\",\n",
    "          \"booster\" : \"gbtree\",\n",
    "          \"eta\": 0.05,\n",
    "          \"max_depth\": 5,\n",
    "          \"subsample\": 0.7,\n",
    "          \"colsample_bytree\": 0.7,\n",
    "          \"silent\": 1,\n",
    "          \"seed\": 1301,\n",
    "          \"nthread\" : 4\n",
    "          }\n",
    "num_boost_round = 100\n",
    "\n",
    "\n",
    "for d in data:\n",
    "    print(\"Train a XGBoost model\")\n",
    "    X_train, X_valid, y_train, y_valid = train_test_split(d.iloc[:,1:], d.iloc[:,0], test_size=0.2, random_state=111)\n",
    "\n",
    "    # y_train = np.log1p(X_train.SalePrice)\n",
    "    # y_valid = np.log1p(X_valid.SalePrice)\n",
    "    # dtrain = xgb.DMatrix(X_train[features], y_train)\n",
    "    # dvalid = xgb.DMatrix(X_valid[features], y_valid)\n",
    "\n",
    "    dtrain = xgb.DMatrix(X_train, y_train)\n",
    "    dvalid = xgb.DMatrix(X_valid, y_valid)\n",
    "\n",
    "    watchlist = [(dtrain, 'train'), (dvalid, 'eval')]\n",
    "    # gbm = xgb.train(params, dtrain, num_boost_round, evals=watchlist, \\\n",
    "    #   early_stopping_rounds=100, feval=rmspe_xg, verbose_eval=True)\n",
    "    gbm = xgb.train(params, dtrain, num_boost_round, evals=watchlist, early_stopping_rounds=100, verbose_eval=False)\n",
    "\n",
    "    print(\"Validating\")\n",
    "    yhat = gbm.predict(xgb.DMatrix(X_valid))\n",
    "    print np.sqrt(metrics.mean_squared_error(y_valid, yhat))\n",
    "    score = gbm.get_fscore()\n",
    "    print sorted(score.items(), key=lambda t:t[1], reverse=True)"
   ]
  },
  {
   "cell_type": "code",
   "execution_count": null,
   "metadata": {
    "collapsed": true
   },
   "outputs": [],
   "source": []
  }
 ],
 "metadata": {
  "kernelspec": {
   "display_name": "Python 2",
   "language": "python",
   "name": "python2"
  },
  "language_info": {
   "codemirror_mode": {
    "name": "ipython",
    "version": 2
   },
   "file_extension": ".py",
   "mimetype": "text/x-python",
   "name": "python",
   "nbconvert_exporter": "python",
   "pygments_lexer": "ipython2",
   "version": "2.7.12"
  }
 },
 "nbformat": 4,
 "nbformat_minor": 0
}
