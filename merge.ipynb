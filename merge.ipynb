{
 "cells": [
  {
   "cell_type": "code",
   "execution_count": 1,
   "metadata": {
    "collapsed": false
   },
   "outputs": [],
   "source": [
    "import numpy as np\n",
    "import pandas as pd\n",
    "import matplotlib.pyplot as plt\n",
    "import time\n",
    "%matplotlib inline\n",
    "pd.set_option('display.max_columns', 100)"
   ]
  },
  {
   "cell_type": "code",
   "execution_count": 2,
   "metadata": {
    "collapsed": false
   },
   "outputs": [],
   "source": [
    "home30day = pd.read_csv('../data/home30day.csv',low_memory=False)\n",
    "university = pd.read_csv('../data/university.csv',low_memory=False)"
   ]
  },
  {
   "cell_type": "code",
   "execution_count": 3,
   "metadata": {
    "collapsed": false
   },
   "outputs": [],
   "source": [
    "home30day_5 = home30day.head(5)\n",
    "home30day_5_grouped = home30day_5.groupby('state')\n",
    "university_grouped = university.groupby('state')\n",
    "dfMin = pd.DataFrame()"
   ]
  },
  {
   "cell_type": "code",
   "execution_count": 4,
   "metadata": {
    "collapsed": false
   },
   "outputs": [
    {
     "name": "stdout",
     "output_type": "stream",
     "text": [
      "10312\n",
      "1477871993.71\n"
     ]
    }
   ],
   "source": [
    "saleprice = home30day['saleprice'].unique()\n",
    "print len(saleprice)\n",
    "print time.time()"
   ]
  },
  {
   "cell_type": "code",
   "execution_count": 5,
   "metadata": {
    "collapsed": false
   },
   "outputs": [
    {
     "data": {
      "text/html": [
       "<div>\n",
       "<table border=\"1\" class=\"dataframe\">\n",
       "  <thead>\n",
       "    <tr style=\"text-align: right;\">\n",
       "      <th></th>\n",
       "      <th>latitude</th>\n",
       "      <th>longitude</th>\n",
       "      <th>numbed</th>\n",
       "      <th>num_bath_full</th>\n",
       "      <th>num_bath_part</th>\n",
       "      <th>rentalprice_min</th>\n",
       "      <th>rentalprice_max</th>\n",
       "      <th>saleprice</th>\n",
       "      <th>floor_plan</th>\n",
       "      <th>size</th>\n",
       "      <th>pool</th>\n",
       "      <th>gatedCommunity</th>\n",
       "      <th>stainlessAppliances</th>\n",
       "      <th>fireplace</th>\n",
       "      <th>renovation</th>\n",
       "    </tr>\n",
       "  </thead>\n",
       "  <tbody>\n",
       "    <tr>\n",
       "      <th>count</th>\n",
       "      <td>183460.000000</td>\n",
       "      <td>183460.000000</td>\n",
       "      <td>183460.000000</td>\n",
       "      <td>183460.000000</td>\n",
       "      <td>183460.000000</td>\n",
       "      <td>183460.000000</td>\n",
       "      <td>183460.0</td>\n",
       "      <td>1.834600e+05</td>\n",
       "      <td>0.0</td>\n",
       "      <td>183460.000000</td>\n",
       "      <td>183460.000000</td>\n",
       "      <td>183460.000000</td>\n",
       "      <td>183460.000000</td>\n",
       "      <td>183460.000000</td>\n",
       "      <td>183460.000000</td>\n",
       "    </tr>\n",
       "    <tr>\n",
       "      <th>mean</th>\n",
       "      <td>33.545487</td>\n",
       "      <td>-93.689711</td>\n",
       "      <td>1.966156</td>\n",
       "      <td>1.393595</td>\n",
       "      <td>-0.697100</td>\n",
       "      <td>984.602317</td>\n",
       "      <td>-1.0</td>\n",
       "      <td>1.338273e+05</td>\n",
       "      <td>NaN</td>\n",
       "      <td>1222.413938</td>\n",
       "      <td>0.221765</td>\n",
       "      <td>0.068609</td>\n",
       "      <td>0.099280</td>\n",
       "      <td>0.242985</td>\n",
       "      <td>0.089807</td>\n",
       "    </tr>\n",
       "    <tr>\n",
       "      <th>std</th>\n",
       "      <td>5.212622</td>\n",
       "      <td>14.886998</td>\n",
       "      <td>1.897425</td>\n",
       "      <td>1.669656</td>\n",
       "      <td>0.716976</td>\n",
       "      <td>3306.473516</td>\n",
       "      <td>0.0</td>\n",
       "      <td>6.412166e+05</td>\n",
       "      <td>NaN</td>\n",
       "      <td>1223.742908</td>\n",
       "      <td>0.415435</td>\n",
       "      <td>0.252789</td>\n",
       "      <td>0.299039</td>\n",
       "      <td>0.428887</td>\n",
       "      <td>0.285906</td>\n",
       "    </tr>\n",
       "    <tr>\n",
       "      <th>min</th>\n",
       "      <td>19.090885</td>\n",
       "      <td>-161.786590</td>\n",
       "      <td>-1.000000</td>\n",
       "      <td>-1.000000</td>\n",
       "      <td>-1.000000</td>\n",
       "      <td>-1.000000</td>\n",
       "      <td>-1.0</td>\n",
       "      <td>-1.000000e+00</td>\n",
       "      <td>NaN</td>\n",
       "      <td>-1.000000</td>\n",
       "      <td>0.000000</td>\n",
       "      <td>0.000000</td>\n",
       "      <td>0.000000</td>\n",
       "      <td>0.000000</td>\n",
       "      <td>0.000000</td>\n",
       "    </tr>\n",
       "    <tr>\n",
       "      <th>25%</th>\n",
       "      <td>30.361464</td>\n",
       "      <td>-94.455809</td>\n",
       "      <td>1.000000</td>\n",
       "      <td>1.000000</td>\n",
       "      <td>-1.000000</td>\n",
       "      <td>-1.000000</td>\n",
       "      <td>-1.0</td>\n",
       "      <td>-1.000000e+00</td>\n",
       "      <td>NaN</td>\n",
       "      <td>-1.000000</td>\n",
       "      <td>0.000000</td>\n",
       "      <td>0.000000</td>\n",
       "      <td>0.000000</td>\n",
       "      <td>0.000000</td>\n",
       "      <td>0.000000</td>\n",
       "    </tr>\n",
       "    <tr>\n",
       "      <th>50%</th>\n",
       "      <td>33.323529</td>\n",
       "      <td>-87.718835</td>\n",
       "      <td>3.000000</td>\n",
       "      <td>2.000000</td>\n",
       "      <td>-1.000000</td>\n",
       "      <td>-1.000000</td>\n",
       "      <td>-1.0</td>\n",
       "      <td>0.000000e+00</td>\n",
       "      <td>NaN</td>\n",
       "      <td>1157.000000</td>\n",
       "      <td>0.000000</td>\n",
       "      <td>0.000000</td>\n",
       "      <td>0.000000</td>\n",
       "      <td>0.000000</td>\n",
       "      <td>0.000000</td>\n",
       "    </tr>\n",
       "    <tr>\n",
       "      <th>75%</th>\n",
       "      <td>36.088063</td>\n",
       "      <td>-85.468457</td>\n",
       "      <td>3.000000</td>\n",
       "      <td>2.000000</td>\n",
       "      <td>-1.000000</td>\n",
       "      <td>1395.000000</td>\n",
       "      <td>-1.0</td>\n",
       "      <td>1.350000e+05</td>\n",
       "      <td>NaN</td>\n",
       "      <td>1812.000000</td>\n",
       "      <td>0.000000</td>\n",
       "      <td>0.000000</td>\n",
       "      <td>0.000000</td>\n",
       "      <td>0.000000</td>\n",
       "      <td>0.000000</td>\n",
       "    </tr>\n",
       "    <tr>\n",
       "      <th>max</th>\n",
       "      <td>64.978010</td>\n",
       "      <td>-70.718870</td>\n",
       "      <td>12.000000</td>\n",
       "      <td>47.000000</td>\n",
       "      <td>1.000000</td>\n",
       "      <td>200000.000000</td>\n",
       "      <td>-1.0</td>\n",
       "      <td>1.500000e+08</td>\n",
       "      <td>NaN</td>\n",
       "      <td>30000.000000</td>\n",
       "      <td>1.000000</td>\n",
       "      <td>1.000000</td>\n",
       "      <td>1.000000</td>\n",
       "      <td>1.000000</td>\n",
       "      <td>1.000000</td>\n",
       "    </tr>\n",
       "  </tbody>\n",
       "</table>\n",
       "</div>"
      ],
      "text/plain": [
       "            latitude      longitude         numbed  num_bath_full  \\\n",
       "count  183460.000000  183460.000000  183460.000000  183460.000000   \n",
       "mean       33.545487     -93.689711       1.966156       1.393595   \n",
       "std         5.212622      14.886998       1.897425       1.669656   \n",
       "min        19.090885    -161.786590      -1.000000      -1.000000   \n",
       "25%        30.361464     -94.455809       1.000000       1.000000   \n",
       "50%        33.323529     -87.718835       3.000000       2.000000   \n",
       "75%        36.088063     -85.468457       3.000000       2.000000   \n",
       "max        64.978010     -70.718870      12.000000      47.000000   \n",
       "\n",
       "       num_bath_part  rentalprice_min  rentalprice_max     saleprice  \\\n",
       "count  183460.000000    183460.000000         183460.0  1.834600e+05   \n",
       "mean       -0.697100       984.602317             -1.0  1.338273e+05   \n",
       "std         0.716976      3306.473516              0.0  6.412166e+05   \n",
       "min        -1.000000        -1.000000             -1.0 -1.000000e+00   \n",
       "25%        -1.000000        -1.000000             -1.0 -1.000000e+00   \n",
       "50%        -1.000000        -1.000000             -1.0  0.000000e+00   \n",
       "75%        -1.000000      1395.000000             -1.0  1.350000e+05   \n",
       "max         1.000000    200000.000000             -1.0  1.500000e+08   \n",
       "\n",
       "       floor_plan           size           pool  gatedCommunity  \\\n",
       "count         0.0  183460.000000  183460.000000   183460.000000   \n",
       "mean          NaN    1222.413938       0.221765        0.068609   \n",
       "std           NaN    1223.742908       0.415435        0.252789   \n",
       "min           NaN      -1.000000       0.000000        0.000000   \n",
       "25%           NaN      -1.000000       0.000000        0.000000   \n",
       "50%           NaN    1157.000000       0.000000        0.000000   \n",
       "75%           NaN    1812.000000       0.000000        0.000000   \n",
       "max           NaN   30000.000000       1.000000        1.000000   \n",
       "\n",
       "       stainlessAppliances      fireplace     renovation  \n",
       "count        183460.000000  183460.000000  183460.000000  \n",
       "mean              0.099280       0.242985       0.089807  \n",
       "std               0.299039       0.428887       0.285906  \n",
       "min               0.000000       0.000000       0.000000  \n",
       "25%               0.000000       0.000000       0.000000  \n",
       "50%               0.000000       0.000000       0.000000  \n",
       "75%               0.000000       0.000000       0.000000  \n",
       "max               1.000000       1.000000       1.000000  "
      ]
     },
     "execution_count": 5,
     "metadata": {},
     "output_type": "execute_result"
    }
   ],
   "source": [
    "home30day.describe()"
   ]
  },
  {
   "cell_type": "code",
   "execution_count": 6,
   "metadata": {
    "collapsed": false
   },
   "outputs": [
    {
     "name": "stdout",
     "output_type": "stream",
     "text": [
      "CA\n",
      "AL\n",
      "TN\n",
      "LA\n",
      "DE\n",
      "DC\n",
      "CO\n",
      "AR\n",
      "FL\n",
      "MN\n",
      "MO\n",
      "AZ\n",
      "OR\n",
      "IN\n",
      "UT\n",
      "MI\n",
      "RI\n",
      "NV\n",
      "NH\n",
      "AK\n",
      "WY\n",
      "HI\n",
      "VT\n"
     ]
    },
    {
     "data": {
      "text/plain": [
       "(149348, 56)"
      ]
     },
     "execution_count": 6,
     "metadata": {},
     "output_type": "execute_result"
    }
   ],
   "source": [
    "def distance(x1,x2,y1,y2):\n",
    "    return np.linalg.norm(np.array([x1,y1]) - np.array([x2,y2]))\n",
    "\n",
    "def nearestPair(homes,universities):\n",
    "    minDistPair = pd.DataFrame()\n",
    "    states = home['state'].unique()\n",
    "#     states = ['CA','AL','LA']\n",
    "    homes_grouped = homes.groupby('state')\n",
    "    university_grouped = universities.groupby('state')\n",
    "    for state in states:\n",
    "        print state\n",
    "        home_state = homes_grouped.get_group(state)\n",
    "        university_state = university_grouped.get_group(state)\n",
    "        \"\"\"\n",
    "        home_city = home_state[home_state['city'].isin(university_state['city'])]\n",
    "        home_nocity = home_state[~home_state['city'].isin(university_state['city'])]\n",
    "        home_nocity_zip = home_nocity[home_nocity['zipcode'].isin(university_state['postcode'])]\n",
    "        home_nocity_nozip = home_nocity[~home_nocity['zipcode'].isin(university_state['postcode'])]\n",
    "        \n",
    "        pair_city = nearest(home_city, university_state, 'city', 'city')\n",
    "        #pair_zip = nearest(home_nocity_zip, university_state, 'zipcode', 'postcode')\n",
    "        pair_general = nearest(home_nocity_nozip, university_state, 'state', 'state')\n",
    "        \"\"\"\n",
    "        minDistPair_state = nearestInState(home_state, university_state)\n",
    "        minDistPair = pd.concat([minDistPair, minDistPair_state])\n",
    "        #print state\n",
    "        #print home_state.shape\n",
    "        #print university_state.shape\n",
    "        #minDistPair_state = nearestInState(home_state, university_state)\n",
    "        #minDistPair = pd.concat([minDistPair, minDistPair_state])\n",
    "        #print state, minDistPair_state.shape, home_state.shape\n",
    "        \n",
    "    return minDistPair\n",
    "\n",
    "def nearestInState(h, u):\n",
    "    # pair a house to every university in the same state\n",
    "    mergeDf = h.merge(u, left_on='state', right_on='state', how='inner')\n",
    "    # find distance between a house and an university\n",
    "    mergeDf['distance'] = mergeDf.apply(lambda row: distance(row['longitude_x'],row['longitude_y'],row['latitude_x'],row['latitude_y']), axis=1)\n",
    "    # find the distance from a house to the nearest university\n",
    "    mergeDfGrouped = mergeDf.groupby(['latitude_x','longitude_x'],as_index=False)\n",
    "    #print len(mergeDfGrouped)\n",
    "    #print mergeDf.shape\n",
    "    #print list(mergeDf.columns.values)\n",
    "    # filter the house-university pairs by the smallest distance found above\n",
    "    minDistPair = pd.DataFrame()\n",
    "    for name, group in mergeDfGrouped:\n",
    "        pair = mergeDf[mergeDf['distance'] == mergeDfGrouped.get_group(name).min()['distance']].head(1)\n",
    "        minDistPair = pd.concat([minDistPair, pair])\n",
    "    #mergeDfFinal = mergeDf[mergeDf['latitude_x'].isin(mergeDfMin['latitude_x']) & mergeDf['longitude_x'].isin(mergeDfMin['longitude_x'])]\n",
    "    #print minDistPair.shape\n",
    "    return minDistPair\n",
    "    \n",
    "    #print mergeDf['distance'].unique()\n",
    "    \n",
    "home = home30day\n",
    "\n",
    "allPair = nearestPair(home,university).reset_index(drop=True)\n",
    "allPair.shape"
   ]
  },
  {
   "cell_type": "code",
   "execution_count": null,
   "metadata": {
    "collapsed": false
   },
   "outputs": [],
   "source": [
    "len(home['state'].unique())"
   ]
  },
  {
   "cell_type": "code",
   "execution_count": null,
   "metadata": {
    "collapsed": false
   },
   "outputs": [],
   "source": [
    "allPair.head(2)"
   ]
  },
  {
   "cell_type": "code",
   "execution_count": 7,
   "metadata": {
    "collapsed": false
   },
   "outputs": [
    {
     "name": "stdout",
     "output_type": "stream",
     "text": [
      "(256, 39) (58, 39) (198, 39)\n"
     ]
    }
   ],
   "source": [
    "states = home30day['state'].unique()\n",
    "homes_grouped = home30day.groupby('state')\n",
    "university_grouped = university.groupby('state')\n",
    "vthome = homes_grouped.get_group('VT')\n",
    "univt = university_grouped.get_group('VT')\n",
    "vt_zip = vthome[vthome['zipcode'].isin(univt['postcode'])]\n",
    "vt_nozip = vthome[~vthome['zipcode'].isin(univt['postcode'])]\n",
    "print vthome.shape, vt_zip.shape, vt_nozip.shape"
   ]
  },
  {
   "cell_type": "code",
   "execution_count": 8,
   "metadata": {
    "collapsed": false
   },
   "outputs": [
    {
     "name": "stdout",
     "output_type": "stream",
     "text": [
      "(256, 39) (93, 39) (163, 39)\n"
     ]
    }
   ],
   "source": [
    "vt_city = vthome[vthome['city'].isin(univt['city'])]\n",
    "vt_nocity = vthome[~vthome['city'].isin(univt['city'])]\n",
    "print vthome.shape, vt_city.shape, vt_nocity.shape"
   ]
  },
  {
   "cell_type": "code",
   "execution_count": 15,
   "metadata": {
    "collapsed": false
   },
   "outputs": [
    {
     "name": "stdout",
     "output_type": "stream",
     "text": [
      "['website_x', 'home_url', 'property_type', 'record_type', 'parser_type', 'latitude_x', 'longitude_x', 'streetaddr_x', 'city_x', 'state', 'zipcode', 'country', 'numbed', 'num_bath_full', 'num_bath_part', 'rentalprice_min', 'rentalprice_max', 'saleprice', 'yearbuilt', 'floor_plan', 'garage', 'lotsize', 'stories', 'size', 'pool', 'style', 'numofparking', 'gatedCommunity', 'stainlessAppliances', 'fireplace', 'floorType', 'kitchenCountertop', 'renovation', 'elevation', 'elevationType', 'description', 'crawl_time', 'datalisted', 'inactive', 'UniversityName', 'streetaddr_y', 'city_y', 'postcode', 'acceptanceRate', 'ranking', 'enroll', 'latitude_y', 'longitude_y', 'type', 'endowment', 'acadStaff', 'students', 'underGrad', 'postGrad', 'website_y', 'distance']\n",
      "(149348, 56)\n",
      "<class 'pandas.core.frame.DataFrame'>\n",
      "RangeIndex: 149348 entries, 0 to 149347\n",
      "Data columns (total 56 columns):\n",
      "website_x              149348 non-null object\n",
      "home_url               149343 non-null object\n",
      "property_type          149348 non-null object\n",
      "record_type            149348 non-null object\n",
      "parser_type            149348 non-null object\n",
      "latitude_x             149348 non-null float64\n",
      "longitude_x            149348 non-null float64\n",
      "streetaddr_x           149348 non-null object\n",
      "city_x                 149348 non-null object\n",
      "state                  149348 non-null object\n",
      "zipcode                149348 non-null object\n",
      "country                149348 non-null object\n",
      "numbed                 149348 non-null int64\n",
      "num_bath_full          149348 non-null int64\n",
      "num_bath_part          149348 non-null int64\n",
      "rentalprice_min        149348 non-null int64\n",
      "rentalprice_max        149348 non-null int64\n",
      "saleprice              149348 non-null int64\n",
      "yearbuilt              149348 non-null object\n",
      "floor_plan             0 non-null float64\n",
      "garage                 149348 non-null object\n",
      "lotsize                149348 non-null object\n",
      "stories                149348 non-null object\n",
      "size                   149348 non-null int64\n",
      "pool                   149348 non-null int64\n",
      "style                  149142 non-null object\n",
      "numofparking           149348 non-null object\n",
      "gatedCommunity         149348 non-null int64\n",
      "stainlessAppliances    149348 non-null int64\n",
      "fireplace              149348 non-null int64\n",
      "floorType              149348 non-null object\n",
      "kitchenCountertop      149348 non-null object\n",
      "renovation             149348 non-null int64\n",
      "elevation              149348 non-null object\n",
      "elevationType          149348 non-null object\n",
      "description            149348 non-null object\n",
      "crawl_time             149348 non-null object\n",
      "datalisted             149348 non-null object\n",
      "inactive               149348 non-null object\n",
      "UniversityName         149348 non-null object\n",
      "streetaddr_y           149348 non-null object\n",
      "city_y                 149348 non-null object\n",
      "postcode               149348 non-null object\n",
      "acceptanceRate         149348 non-null object\n",
      "ranking                149348 non-null object\n",
      "enroll                 149348 non-null object\n",
      "latitude_y             149348 non-null float64\n",
      "longitude_y            149348 non-null float64\n",
      "type                   149348 non-null object\n",
      "endowment              149348 non-null object\n",
      "acadStaff              149348 non-null object\n",
      "students               149348 non-null object\n",
      "underGrad              149348 non-null object\n",
      "postGrad               149348 non-null object\n",
      "website_y              148454 non-null object\n",
      "distance               149348 non-null float64\n",
      "dtypes: float64(6), int64(12), object(38)\n",
      "memory usage: 63.8+ MB\n",
      "None\n"
     ]
    }
   ],
   "source": [
    "print list(allPair.columns.values)\n",
    "print allPair.shape\n",
    "print allPair.info()"
   ]
  },
  {
   "cell_type": "code",
   "execution_count": 11,
   "metadata": {
    "collapsed": false
   },
   "outputs": [
    {
     "name": "stdout",
     "output_type": "stream",
     "text": [
      "size: \t0.212434739444\n",
      "num_bath_part: \t0.0259196241384\n",
      "rentalprice_max: \tnan\n",
      "floor_plan: \tnan\n",
      "saleprice: \t1.0\n",
      "fireplace: \t0.114797524331\n",
      "longitude_y: \t-0.101855836736\n",
      "num_bath_full: \t0.101698415286\n",
      "longitude_x: \t-0.101392110915\n",
      "numbed: \t0.0905193630614\n",
      "pool: \t0.058742727049\n",
      "rentalprice_min: \t-0.0545353930517\n",
      "gatedCommunity: \t0.0460546172569\n",
      "latitude_y: \t-0.0272588998541\n",
      "latitude_x: \t-0.0272049802005\n",
      "stainlessAppliances: \t0.0259795581264\n",
      "renovation: \t0.0128040081913\n",
      "distance: \t0.00965132092317\n"
     ]
    }
   ],
   "source": [
    "corr = allPair.corr()\n",
    "price_corr = corr[\"saleprice\"]\n",
    "price_corr = price_corr.to_dict()\n",
    "# print price_corr\n",
    "for ele in sorted(price_corr.items(), key = lambda x: -abs(x[1])):\n",
    "    print(\"{0}: \\t{1}\".format(*ele))"
   ]
  },
  {
   "cell_type": "code",
   "execution_count": 16,
   "metadata": {
    "collapsed": false
   },
   "outputs": [
    {
     "name": "stdout",
     "output_type": "stream",
     "text": [
      "(18, 18)\n"
     ]
    }
   ],
   "source": [
    "print corr.shape"
   ]
  },
  {
   "cell_type": "code",
   "execution_count": 17,
   "metadata": {
    "collapsed": false
   },
   "outputs": [
    {
     "ename": "ImportError",
     "evalue": "No module named seaborn",
     "output_type": "error",
     "traceback": [
      "\u001b[0;31m---------------------------------------------------------------------------\u001b[0m",
      "\u001b[0;31mImportError\u001b[0m                               Traceback (most recent call last)",
      "\u001b[0;32m<ipython-input-17-be08b07ccbb3>\u001b[0m in \u001b[0;36m<module>\u001b[0;34m()\u001b[0m\n\u001b[0;32m----> 1\u001b[0;31m \u001b[0;32mimport\u001b[0m \u001b[0mseaborn\u001b[0m \u001b[0;32mas\u001b[0m \u001b[0msns\u001b[0m\u001b[0;34m\u001b[0m\u001b[0m\n\u001b[0m\u001b[1;32m      2\u001b[0m \u001b[0msns\u001b[0m\u001b[0;34m.\u001b[0m\u001b[0mheatmap\u001b[0m\u001b[0;34m(\u001b[0m\u001b[0mcorr\u001b[0m\u001b[0;34m,\u001b[0m \u001b[0mvmax\u001b[0m\u001b[0;34m=\u001b[0m\u001b[0;36m1\u001b[0m\u001b[0;34m,\u001b[0m \u001b[0msquare\u001b[0m\u001b[0;34m=\u001b[0m\u001b[0mTrue\u001b[0m\u001b[0;34m)\u001b[0m\u001b[0;34m\u001b[0m\u001b[0m\n",
      "\u001b[0;31mImportError\u001b[0m: No module named seaborn"
     ]
    }
   ],
   "source": [
    "import seaborn as sns\n",
    "sns.heatmap(corr, vmax=1, square=True)"
   ]
  },
  {
   "cell_type": "code",
   "execution_count": null,
   "metadata": {
    "collapsed": true
   },
   "outputs": [],
   "source": []
  }
 ],
 "metadata": {
  "kernelspec": {
   "display_name": "Python 2",
   "language": "python",
   "name": "python2"
  },
  "language_info": {
   "codemirror_mode": {
    "name": "ipython",
    "version": 2
   },
   "file_extension": ".py",
   "mimetype": "text/x-python",
   "name": "python",
   "nbconvert_exporter": "python",
   "pygments_lexer": "ipython2",
   "version": "2.7.12"
  }
 },
 "nbformat": 4,
 "nbformat_minor": 0
}
