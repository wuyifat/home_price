{
 "cells": [
  {
   "cell_type": "code",
   "execution_count": 1,
   "metadata": {
    "collapsed": false
   },
   "outputs": [],
   "source": [
    "import numpy as np\n",
    "import pandas as pd\n",
    "import matplotlib.pyplot as plt\n",
    "%matplotlib inline\n",
    "pd.set_option('display.max_columns', 100)"
   ]
  },
  {
   "cell_type": "code",
   "execution_count": 2,
   "metadata": {
    "collapsed": false
   },
   "outputs": [],
   "source": [
    "home30day = pd.read_csv('home30day.csv',low_memory=False)\n",
    "university = pd.read_csv('university.csv',low_memory=False)"
   ]
  },
  {
   "cell_type": "code",
   "execution_count": 3,
   "metadata": {
    "collapsed": false
   },
   "outputs": [],
   "source": [
    "home30day_5 = home30day.head(5)\n",
    "home30day_5_grouped = home30day_5.groupby('state')\n",
    "university_grouped = university.groupby('state')\n",
    "dfMin = pd.DataFrame()"
   ]
  },
  {
   "cell_type": "code",
   "execution_count": 4,
   "metadata": {
    "collapsed": false
   },
   "outputs": [
    {
     "name": "stdout",
     "output_type": "stream",
     "text": [
      "CA (16300, 56) (16957, 39)\n",
      "AL (43426, 56) (53612, 39)\n",
      "TN (3818, 56) (4073, 39)\n",
      "LA (21333, 56) (25926, 39)\n",
      "DE (596, 56) (632, 39)\n",
      "DC (1396, 56) (1887, 39)\n",
      "CO (5082, 56) (5779, 39)\n",
      "AR (1408, 56) (1615, 39)\n",
      "FL (19482, 56) (30149, 39)\n",
      "MN (2316, 56) (2566, 39)\n",
      "MO (4771, 56) (5254, 39)\n",
      "AZ (8117, 56) (9861, 39)\n",
      "OR (2254, 56) (2383, 39)\n",
      "IN (3753, 56) (4031, 39)\n",
      "UT (1195, 56) (1302, 39)\n",
      "MI (5348, 56) (5791, 39)\n",
      "RI (1212, 56) (2154, 39)\n",
      "NV (4236, 56) (5430, 39)\n",
      "NH (731, 56) (822, 39)\n",
      "AK (711, 56) (840, 39)\n",
      "WY (425, 56) (467, 39)\n",
      "HI (1206, 56) (1673, 39)\n",
      "VT (232, 56) (256, 39)\n"
     ]
    },
    {
     "data": {
      "text/plain": [
       "(149348, 56)"
      ]
     },
     "execution_count": 4,
     "metadata": {},
     "output_type": "execute_result"
    }
   ],
   "source": [
    "def distance(x1,x2,y1,y2):\n",
    "    return np.linalg.norm(np.array([x1,y1]) - np.array([x2,y2]))\n",
    "\n",
    "def nearest(homes,universities):\n",
    "    minDistPair = pd.DataFrame()\n",
    "    states = home['state'].unique()\n",
    "    homes_grouped = homes.groupby('state')\n",
    "    university_grouped = universities.groupby('state')\n",
    "    for state in states:\n",
    "        home_state = homes_grouped.get_group(state)\n",
    "        university_state = university_grouped.get_group(state)\n",
    "        #print state\n",
    "        #print home_state.shape\n",
    "        #print university_state.shape\n",
    "        minDistPair_state = nearestInState(home_state, university_state)\n",
    "        minDistPair = pd.concat([minDistPair, minDistPair_state])\n",
    "        print state, minDistPair_state.shape, home_state.shape\n",
    "    return minDistPair\n",
    "\n",
    "def nearestInState(h, u):\n",
    "    # pair a house to every university in the same state\n",
    "    mergeDf = h.merge(u, left_on='state', right_on='state', how='inner')\n",
    "    # find distance between a house and an university\n",
    "    mergeDf['distance'] = mergeDf.apply(lambda row: distance(row['longitude_x'],row['longitude_y'],row['latitude_x'],row['latitude_y']), axis=1)\n",
    "    # find the distance from a house to the nearest university\n",
    "    mergeDfGrouped = mergeDf.groupby(['latitude_x','longitude_x'],as_index=False)\n",
    "    #print mergeDf.shape\n",
    "    #print list(mergeDf.columns.values)\n",
    "    # filter the house-university pairs by the smallest distance found above\n",
    "    minDistPair = pd.DataFrame()\n",
    "    for name, group in mergeDfGrouped:\n",
    "        pair = mergeDf[mergeDf['distance'] == mergeDfGrouped.get_group(name).min()['distance']].head(1)\n",
    "        minDistPair = pd.concat([minDistPair, pair])\n",
    "    #mergeDfFinal = mergeDf[mergeDf['latitude_x'].isin(mergeDfMin['latitude_x']) & mergeDf['longitude_x'].isin(mergeDfMin['longitude_x'])]\n",
    "    #print minDistPair.shape\n",
    "    return minDistPair\n",
    "    \n",
    "    #print mergeDf['distance'].unique()\n",
    "    \n",
    "home = home30day\n",
    "\n",
    "allPair = nearest(home,university).reset_index(drop=True)\n",
    "allPair.shape"
   ]
  },
  {
   "cell_type": "code",
   "execution_count": null,
   "metadata": {
    "collapsed": false
   },
   "outputs": [],
   "source": [
    "home.shape"
   ]
  },
  {
   "cell_type": "code",
   "execution_count": null,
   "metadata": {
    "collapsed": false
   },
   "outputs": [],
   "source": [
    "len(home['state'].unique())"
   ]
  },
  {
   "cell_type": "code",
   "execution_count": null,
   "metadata": {
    "collapsed": false
   },
   "outputs": [],
   "source": [
    "allPair.head(2)"
   ]
  },
  {
   "cell_type": "code",
   "execution_count": null,
   "metadata": {
    "collapsed": true
   },
   "outputs": [],
   "source": []
  }
 ],
 "metadata": {
  "kernelspec": {
   "display_name": "Python 2",
   "language": "python",
   "name": "python2"
  },
  "language_info": {
   "codemirror_mode": {
    "name": "ipython",
    "version": 2
   },
   "file_extension": ".py",
   "mimetype": "text/x-python",
   "name": "python",
   "nbconvert_exporter": "python",
   "pygments_lexer": "ipython2",
   "version": "2.7.6"
  }
 },
 "nbformat": 4,
 "nbformat_minor": 0
}
