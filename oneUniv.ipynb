{
 "cells": [
  {
   "cell_type": "markdown",
   "metadata": {
    "collapsed": true
   },
   "source": [
    "### In this script, we look at homes close to one specific university and trying to see if the saleprice has a strong correlation with some home feature. We confine the analysis to one university's neighborhood to eliminate the location variable."
   ]
  },
  {
   "cell_type": "code",
   "execution_count": null,
   "metadata": {
    "collapsed": true
   },
   "outputs": [],
   "source": [
    "import numpy as np\n",
    "import pandas as pd\n",
    "import matplotlib.pyplot as plt\n",
    "import seaborn as sns\n",
    "import time\n",
    "%matplotlib inline\n",
    "pd.set_option('display.max_columns', 100)"
   ]
  },
  {
   "cell_type": "code",
   "execution_count": 2,
   "metadata": {
    "collapsed": true
   },
   "outputs": [],
   "source": [
    "allPair = pd.read_csv(\"../data/allPair.csv\",low_memory=False)"
   ]
  },
  {
   "cell_type": "code",
   "execution_count": 5,
   "metadata": {
    "collapsed": false
   },
   "outputs": [],
   "source": [
    "# We focus on CA because CA has most homes and universities.\n",
    "CA = allPair[allPair[\"state\"] == \"CA\"]"
   ]
  },
  {
   "cell_type": "code",
   "execution_count": 8,
   "metadata": {
    "collapsed": false
   },
   "outputs": [
    {
     "name": "stdout",
     "output_type": "stream",
     "text": [
      "<class 'pandas.core.frame.DataFrame'>\n",
      "Int64Index: 16300 entries, 0 to 16299\n",
      "Data columns (total 56 columns):\n",
      "website_x              16300 non-null object\n",
      "home_url               16298 non-null object\n",
      "property_type          16300 non-null object\n",
      "record_type            16300 non-null object\n",
      "parser_type            16300 non-null object\n",
      "latitude_x             16300 non-null float64\n",
      "longitude_x            16300 non-null float64\n",
      "streetaddr_x           16300 non-null object\n",
      "city_x                 16300 non-null object\n",
      "state                  16300 non-null object\n",
      "zipcode                16300 non-null object\n",
      "country                16300 non-null object\n",
      "numbed                 16300 non-null int64\n",
      "num_bath_full          16300 non-null int64\n",
      "num_bath_part          16300 non-null int64\n",
      "rentalprice_min        16300 non-null int64\n",
      "rentalprice_max        16300 non-null int64\n",
      "saleprice              16300 non-null int64\n",
      "yearbuilt              16300 non-null object\n",
      "floor_plan             0 non-null float64\n",
      "garage                 16300 non-null object\n",
      "lotsize                16300 non-null object\n",
      "stories                16300 non-null object\n",
      "size                   16300 non-null int64\n",
      "pool                   16300 non-null int64\n",
      "style                  16117 non-null object\n",
      "numofparking           16300 non-null object\n",
      "gatedCommunity         16300 non-null int64\n",
      "stainlessAppliances    16300 non-null int64\n",
      "fireplace              16300 non-null int64\n",
      "floorType              16300 non-null object\n",
      "kitchenCountertop      16300 non-null object\n",
      "renovation             16300 non-null int64\n",
      "elevation              16300 non-null object\n",
      "elevationType          16300 non-null object\n",
      "description            16300 non-null object\n",
      "crawl_time             16300 non-null object\n",
      "datalisted             16300 non-null object\n",
      "inactive               16300 non-null object\n",
      "UniversityName         16300 non-null object\n",
      "streetaddr_y           16300 non-null object\n",
      "city_y                 16300 non-null object\n",
      "postcode               16300 non-null object\n",
      "acceptanceRate         16300 non-null object\n",
      "ranking                16300 non-null object\n",
      "enroll                 16300 non-null object\n",
      "latitude_y             16300 non-null float64\n",
      "longitude_y            16300 non-null float64\n",
      "type                   16300 non-null object\n",
      "endowment              16300 non-null object\n",
      "acadStaff              16300 non-null object\n",
      "students               16300 non-null object\n",
      "underGrad              16300 non-null object\n",
      "postGrad               16300 non-null object\n",
      "website_y              16300 non-null object\n",
      "distance               16300 non-null float64\n",
      "dtypes: float64(6), int64(12), object(38)\n",
      "memory usage: 7.1+ MB\n",
      "None\n"
     ]
    }
   ],
   "source": [
    "print CA.info()"
   ]
  },
  {
   "cell_type": "markdown",
   "metadata": {},
   "source": [
    "### We perform analysis on 5 universities with most homes paired to it."
   ]
  },
  {
   "cell_type": "code",
   "execution_count": 19,
   "metadata": {
    "collapsed": false
   },
   "outputs": [
    {
     "name": "stdout",
     "output_type": "stream",
     "text": [
      "UniversityName\n",
      "University of Redlands                            1269\n",
      "William Jessup University                          983\n",
      "California State University   - San Bernardino     783\n",
      "California State University   - Bakersfield        527\n",
      "The Sage Colleges                                  422\n",
      "dtype: int64\n"
     ]
    }
   ],
   "source": [
    "count = CA.groupby('UniversityName').size()\n",
    "count.sort_values(inplace=True,ascending=False)\n",
    "print count[:5]"
   ]
  },
  {
   "cell_type": "code",
   "execution_count": 36,
   "metadata": {
    "collapsed": false
   },
   "outputs": [
    {
     "name": "stdout",
     "output_type": "stream",
     "text": [
      "[('University of Redlands', 1269), ('William Jessup University', 983), ('California State University   - San Bernardino', 783), ('California State University   - Bakersfield', 527), ('The Sage Colleges', 422)]\n"
     ]
    }
   ],
   "source": [
    "top5Universities = count[:5].to_dict().items()\n",
    "top5Universities = sorted(top5Universities, key = lambda x: -x[1])\n",
    "print top5Universities"
   ]
  },
  {
   "cell_type": "code",
   "execution_count": 41,
   "metadata": {
    "collapsed": false
   },
   "outputs": [
    {
     "name": "stdout",
     "output_type": "stream",
     "text": [
      "5\n",
      "<class 'pandas.core.frame.DataFrame'>\n",
      "(1269, 56)\n"
     ]
    }
   ],
   "source": [
    "topUniv = []\n",
    "for i in range(5):\n",
    "    topUniv.append(CA.groupby('UniversityName').get_group(top5Universities[i][0]))\n",
    "\n",
    "print len(topUniv)\n",
    "print type(topUniv[0])\n",
    "print topUniv[0].shape"
   ]
  },
  {
   "cell_type": "markdown",
   "metadata": {},
   "source": [
    "### For each university, find the correlation between home saleprice and each home feature."
   ]
  },
  {
   "cell_type": "code",
   "execution_count": 59,
   "metadata": {
    "collapsed": false
   },
   "outputs": [
    {
     "name": "stdout",
     "output_type": "stream",
     "text": [
      "********************\n",
      "University of Redlands\n",
      "number of nearest homes: 811\n",
      "size: \t0.5109935229\n",
      "num_bath_part: \t0.0718129978106\n",
      "rentalprice_max: \tnan\n",
      "floor_plan: \tnan\n",
      "saleprice: \t1.0\n",
      "numbed: \t0.324790874931\n",
      "pool: \t0.292271420793\n",
      "fireplace: \t0.246796874385\n",
      "gatedCommunity: \t0.231519819251\n",
      "latitude_x: \t-0.177033129654\n",
      "yearbuilt: \t0.135544209816\n",
      "stainlessAppliances: \t0.102827046209\n",
      "distance: \t0.0459389817743\n",
      "num_bath_full: \t-0.00134995868744\n",
      "rentalprice_min: \tnan\n",
      "longitude_x: \t0.0425178583378\n",
      "renovation: \t0.0409305000956\n",
      "latitude_y: \t1.35932380658e-15\n",
      "longitude_y: \t1.21966244575e-15\n",
      "********************\n",
      "William Jessup University\n",
      "number of nearest homes: 669\n",
      "size: \t0.486744243119\n",
      "num_bath_part: \t0.131904881543\n",
      "rentalprice_max: \tnan\n",
      "floor_plan: \tnan\n",
      "num_bath_full: \t0.43385600787\n",
      "distance: \t0.22677896713\n",
      "rentalprice_min: \tnan\n",
      "saleprice: \t1.0\n",
      "numbed: \t0.308435803851\n",
      "longitude_x: \t0.271273072959\n",
      "pool: \t0.169028203481\n",
      "yearbuilt: \t0.137990793794\n",
      "fireplace: \t0.115496909617\n",
      "latitude_x: \t0.10249318113\n",
      "gatedCommunity: \t0.0887995617279\n",
      "stainlessAppliances: \t0.0684501538518\n",
      "renovation: \t0.051018910931\n",
      "latitude_y: \t-8.23288872679e-16\n",
      "longitude_y: \t-7.25476830586e-16\n",
      "********************\n",
      "California State University   - San Bernardino\n",
      "number of nearest homes: 454\n",
      "num_bath_part: \t0.183833935973\n",
      "size: \t0.117427614081\n",
      "rentalprice_max: \tnan\n",
      "floor_plan: \tnan\n",
      "saleprice: \t1.0\n",
      "gatedCommunity: \t0.262359029123\n",
      "numbed: \t0.125820947155\n",
      "yearbuilt: \t0.110587377039\n",
      "distance: \t-0.107829075826\n",
      "fireplace: \t0.106478902435\n",
      "num_bath_full: \t0.0698733074782\n",
      "rentalprice_min: \tnan\n",
      "latitude_x: \t-0.10608934877\n",
      "longitude_x: \t0.101958524301\n",
      "stainlessAppliances: \t0.0855280190141\n",
      "renovation: \t0.0285780020608\n",
      "pool: \t0.0273464182316\n",
      "latitude_y: \t-8.334035556e-16\n",
      "longitude_y: \t-1.567155333e-16\n",
      "********************\n",
      "California State University   - Bakersfield\n",
      "number of nearest homes: 367\n",
      "size: \t0.276181110164\n",
      "num_bath_part: \t0.00884026215357\n",
      "rentalprice_max: \tnan\n",
      "floor_plan: \tnan\n",
      "saleprice: \t1.0\n",
      "gatedCommunity: \t0.351900770402\n",
      "stainlessAppliances: \t0.305690222612\n",
      "yearbuilt: \t0.278222807034\n",
      "pool: \t0.173915948275\n",
      "numbed: \t0.170035172439\n",
      "distance: \t-0.10852418687\n",
      "num_bath_full: \t-0.105029493518\n",
      "rentalprice_min: \tnan\n",
      "fireplace: \t0.188989723031\n",
      "latitude_x: \t-0.0914576448434\n",
      "longitude_x: \t-0.0607177457033\n",
      "renovation: \t0.0576401359519\n",
      "longitude_y: \t4.06580609803e-17\n",
      "latitude_y: \t4.06580609803e-17\n",
      "********************\n",
      "The Sage Colleges\n",
      "number of nearest homes: 331\n",
      "size: \t0.287017694414\n",
      "num_bath_part: \t-0.162418877885\n",
      "rentalprice_max: \tnan\n",
      "floor_plan: \tnan\n",
      "distance: \t0.24466071019\n",
      "num_bath_full: \t-0.185136043312\n",
      "rentalprice_min: \tnan\n",
      "saleprice: \t1.0\n",
      "latitude_x: \t-0.221019369247\n",
      "stainlessAppliances: \t0.220189346948\n",
      "numbed: \t0.185480447759\n",
      "yearbuilt: \t0.164715136272\n",
      "longitude_x: \t0.128675256678\n",
      "gatedCommunity: \t0.0921582166508\n",
      "renovation: \t0.0812281331225\n",
      "pool: \t0.04981006954\n",
      "fireplace: \t0.0298227244873\n",
      "latitude_y: \t-1.04584834944e-15\n",
      "longitude_y: \t5.07592366457e-16\n",
      "********************\n",
      "[0.045938981774272546, 0.22677896712973641, -0.10782907582611338, -0.1085241868700334, 0.2446607101900804]\n",
      "0.0602050792796\n"
     ]
    },
    {
     "name": "stderr",
     "output_type": "stream",
     "text": [
      "/home/wuyi/.local/lib/python2.7/site-packages/ipykernel/__main__.py:5: SettingWithCopyWarning: \n",
      "A value is trying to be set on a copy of a slice from a DataFrame.\n",
      "Try using .loc[row_indexer,col_indexer] = value instead\n",
      "\n",
      "See the caveats in the documentation: http://pandas.pydata.org/pandas-docs/stable/indexing.html#indexing-view-versus-copy\n"
     ]
    }
   ],
   "source": [
    "distanceCorr = []\n",
    "for df in topUniv:\n",
    "    print \"********************\"\n",
    "    df = df[df['yearbuilt'] != \"\\\\N\"]\n",
    "    df[\"yearbuilt\"] = df[\"yearbuilt\"].astype(int)\n",
    "    corr = df.corr()\n",
    "    price_corr = corr[\"saleprice\"]\n",
    "    price_corr = price_corr.to_dict()\n",
    "    # print price_corr\n",
    "    print df.iloc[0]['UniversityName']\n",
    "    print \"number of nearest homes: %d\" %df.shape[0]\n",
    "    for ele in sorted(price_corr.items(), key = lambda x: -abs(x[1])):\n",
    "        print(\"{0}: \\t{1}\".format(*ele))\n",
    "        if ele[0] == 'distance':\n",
    "            distanceCorr.append(ele[1])\n",
    "print \"********************\"\n",
    "print distanceCorr\n",
    "print sum(distanceCorr) / len(distanceCorr)"
   ]
  },
  {
   "cell_type": "markdown",
   "metadata": {
    "collapsed": true
   },
   "source": [
    "### As expected, home size is always the top feature that saleprice depends on. But the correlation between saleprice and other features is not significant. Though is an interesting experiment, it doesn't help too much with analyzing universities' impact."
   ]
  }
 ],
 "metadata": {
  "kernelspec": {
   "display_name": "Python 2",
   "language": "python",
   "name": "python2"
  },
  "language_info": {
   "codemirror_mode": {
    "name": "ipython",
    "version": 2
   },
   "file_extension": ".py",
   "mimetype": "text/x-python",
   "name": "python",
   "nbconvert_exporter": "python",
   "pygments_lexer": "ipython2",
   "version": "2.7.12"
  }
 },
 "nbformat": 4,
 "nbformat_minor": 1
}
